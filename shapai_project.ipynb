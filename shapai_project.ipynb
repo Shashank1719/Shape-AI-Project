{
  "nbformat": 4,
  "nbformat_minor": 0,
  "metadata": {
    "colab": {
      "name": "shapai_project.ipynb",
      "provenance": [],
      "collapsed_sections": [],
      "authorship_tag": "ABX9TyO2i5mcyQGbaY7mAztRjXTh",
      "include_colab_link": true
    },
    "kernelspec": {
      "name": "python3",
      "display_name": "Python 3"
    },
    "language_info": {
      "name": "python"
    }
  },
  "cells": [
    {
      "cell_type": "markdown",
      "metadata": {
        "id": "view-in-github",
        "colab_type": "text"
      },
      "source": [
        "<a href=\"https://colab.research.google.com/github/Shashank1719/Shape-AI-Project/blob/project/shapai_project.ipynb\" target=\"_parent\"><img src=\"https://colab.research.google.com/assets/colab-badge.svg\" alt=\"Open In Colab\"/></a>"
      ]
    },
    {
      "cell_type": "code",
      "metadata": {
        "colab": {
          "base_uri": "https://localhost:8080/"
        },
        "id": "PxmZp-f4EAmQ",
        "outputId": "08f199e9-f8b0-4665-c1e1-07d8c7c49c89"
      },
      "source": [
        "import requests\n",
        "\n",
        "from datetime import datetime\n",
        "api = '6f69567ad8e5f23c6b7616ece6758b2d'\n",
        "city_name = input(\"Enter The City : \")\n",
        "full_link = \"https://api.openweathermap.org/data/2.5/weather?q=\"+city_name+\"&appid=\"+api\n",
        "api_link = requests.get(full_link)\n",
        "api_data = api_link.json()\n",
        "\n",
        "temperature_of_city = ((api_data['main']['temp'])-273.15)\n",
        "weather_description = api_data['weather'][0]['description']\n",
        "humidity = api_data['main']['humidity']\n",
        "wind_speed = api_data['wind']['speed']\n",
        "date_time = datetime.now().strftime(\"%d %b %Y | %I:%M:%S %p\")\n",
        "output = open(\"output.txt\",'w')\n",
        "print(\"-----------------------------------------------\", file =output)\n",
        "print(\"Weather stats for {} || {}\".format(city_name.upper(), date_time), file =output)\n",
        "print(\"---------------------------------------------\", file =output)\n",
        "\n",
        "print(\"Current temperature is : {:.2f} deg C\".format(temperature_of_city), file =output)\n",
        "print(\"Current weather description : \", weather_description, file = output)\n",
        "print(\"Humidity : \", humidity,'%' ,file=output)\n",
        "print(\"Wind Speed is :\", wind_speed, 'kmph', file=output)\n",
        "print(\"\\n\")\n",
        "output.close()\n",
        "\n"
      ],
      "execution_count": 7,
      "outputs": [
        {
          "output_type": "stream",
          "text": [
            "Enter The City : Nadiad\n",
            "\n",
            "\n"
          ],
          "name": "stdout"
        }
      ]
    }
  ]
}